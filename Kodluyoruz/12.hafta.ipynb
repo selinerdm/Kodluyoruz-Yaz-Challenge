{
 "cells": [
  {
   "cell_type": "code",
   "execution_count": 2,
   "metadata": {},
   "outputs": [
    {
     "name": "stdout",
     "output_type": "stream",
     "text": [
      "Sayılarınızın toplamı: 48\n"
     ]
    }
   ],
   "source": [
    "#easy\n",
    "sayi1 = int(input(\"Bir sayı giriniz:\"))\n",
    "sayi2 = int(input(\"İkinci sayıyı girin:\"))\n",
    "toplam = sayi1 + sayi2\n",
    "print(\"Sayılarınızın toplamı:\",toplam)"
   ]
  }
 ],
 "metadata": {
  "kernelspec": {
   "display_name": "Python 3",
   "language": "python",
   "name": "python3"
  },
  "language_info": {
   "codemirror_mode": {
    "name": "ipython",
    "version": 3
   },
   "file_extension": ".py",
   "mimetype": "text/x-python",
   "name": "python",
   "nbconvert_exporter": "python",
   "pygments_lexer": "ipython3",
   "version": "3.11.1"
  },
  "orig_nbformat": 4
 },
 "nbformat": 4,
 "nbformat_minor": 2
}
