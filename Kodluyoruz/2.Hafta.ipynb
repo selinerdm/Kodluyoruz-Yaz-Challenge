{
 "cells": [
  {
   "cell_type": "code",
   "execution_count": 16,
   "metadata": {},
   "outputs": [
    {
     "name": "stdout",
     "output_type": "stream",
     "text": [
      "17 bir asal sayıdır\n"
     ]
    }
   ],
   "source": [
    "#easy\n",
    "sayi =int(input(\"Bir sayı giriniz: \"))\n",
    "for x in range(2,sayi):\n",
    "    if sayi % x == 0:\n",
    "        print(sayi,\"bir asal sayı değildir.\")\n",
    "        continue\n",
    "    elif sayi % x !=0:\n",
    "        print(sayi,\"bir asal sayıdır\")\n",
    "        break\n",
    "        \n",
    "\n"
   ]
  },
  {
   "cell_type": "code",
   "execution_count": 17,
   "metadata": {},
   "outputs": [
    {
     "data": {
      "text/plain": [
       "'SELIN'"
      ]
     },
     "execution_count": 17,
     "metadata": {},
     "output_type": "execute_result"
    }
   ],
   "source": [
    "#medium\n",
    "kelime =input(\"Bir kelime giriniz:\")\n",
    "kelime.upper()\n"
   ]
  },
  {
   "cell_type": "code",
   "execution_count": 19,
   "metadata": {},
   "outputs": [
    {
     "name": "stdout",
     "output_type": "stream",
     "text": [
      "Kaç ürün satılırsa kar edilir:  3\n"
     ]
    }
   ],
   "source": [
    "#hard\n",
    "cost = int(input(\"Maliyeti giriniz: \"))\n",
    "price = int(input(\"Satış fiyatını giriniz: \"))\n",
    "\n",
    "if cost >= price:\n",
    "    print(\"Bu üründen kar edilemez\")\n",
    "elif price > cost:\n",
    "    x*(price-cost) > price\n",
    "    print(\"Kaç ürün satılırsa kar edilir: \", x+1)"
   ]
  }
 ],
 "metadata": {
  "kernelspec": {
   "display_name": "Python 3",
   "language": "python",
   "name": "python3"
  },
  "language_info": {
   "codemirror_mode": {
    "name": "ipython",
    "version": 3
   },
   "file_extension": ".py",
   "mimetype": "text/x-python",
   "name": "python",
   "nbconvert_exporter": "python",
   "pygments_lexer": "ipython3",
   "version": "3.11.1"
  },
  "orig_nbformat": 4
 },
 "nbformat": 4,
 "nbformat_minor": 2
}
