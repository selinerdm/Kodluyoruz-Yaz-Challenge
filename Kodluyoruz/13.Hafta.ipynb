{
 "cells": [
  {
   "cell_type": "code",
   "execution_count": 4,
   "metadata": {},
   "outputs": [
    {
     "name": "stdout",
     "output_type": "stream",
     "text": [
      "Toplam puanınız: 35\n"
     ]
    }
   ],
   "source": [
    "#easy\n",
    "ucluk =int(input(\"Üç puanlık kaç atış yapıldı?\"))\n",
    "ikilik= int(input(\"İki puanlık kaç atış yapıldı? \"))\n",
    "toplam= 3*ucluk+2*ikilik\n",
    "print(\"Toplam puanınız:\",toplam)"
   ]
  },
  {
   "cell_type": "code",
   "execution_count": 3,
   "metadata": {},
   "outputs": [
    {
     "name": "stdout",
     "output_type": "stream",
     "text": [
      "Toplam ödemeniz: 240\n"
     ]
    }
   ],
   "source": [
    "#medium\n",
    "kitap =int(input(\"Kaç tane kiatap aldınız:\"))\n",
    "defter=int(input(\"Kaç tane defter aldınız:\"))\n",
    "kalem= int(input(\"Kaç tane kalem aldınız:\"))\n",
    "toplam = 80*kitap+20*defter+5*kalem\n",
    "print(\"Toplam ödemeniz:\", toplam)\n"
   ]
  },
  {
   "cell_type": "code",
   "execution_count": 8,
   "metadata": {},
   "outputs": [
    {
     "name": "stdout",
     "output_type": "stream",
     "text": [
      " 30 kişi arasından 27405 farklı şekilde 4 adet kişi seçilebilir.\n"
     ]
    }
   ],
   "source": [
    "#hard\n",
    "from math import factorial\n",
    "n= int(input(\"Sınıf mevcudunu giriniz: \"))\n",
    "r= int(input(\"Sınıfın içinden kaç kişi seçmek istiyorsunuz: \"))\n",
    "sonuc= int(factorial(n)/(factorial(n-r)*factorial(r)))\n",
    "print(\" {} kişi arasından {} farklı şekilde {} adet kişi seçilebilir.\".format(n,sonuc,r))"
   ]
  }
 ],
 "metadata": {
  "kernelspec": {
   "display_name": "Python 3",
   "language": "python",
   "name": "python3"
  },
  "language_info": {
   "codemirror_mode": {
    "name": "ipython",
    "version": 3
   },
   "file_extension": ".py",
   "mimetype": "text/x-python",
   "name": "python",
   "nbconvert_exporter": "python",
   "pygments_lexer": "ipython3",
   "version": "3.11.1"
  },
  "orig_nbformat": 4
 },
 "nbformat": 4,
 "nbformat_minor": 2
}
